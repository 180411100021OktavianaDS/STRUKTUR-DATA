{
 "cells": [
  {
   "cell_type": "markdown",
   "metadata": {},
   "source": [
    "                                                   QUEUE\n",
    "     Queue (Antrian) adalah kumpulan data yang berurut dimana penambahan data baru berada di satu ujung bernama ekor atau rear. Sedangkan penghapusan data berada di ujung kepala atau front. Queue menggunakan metode pengurutan FIFO (First In, First Out) yaitu data yang masuk pertama maka data tersebut juga keluar pertama kali. Contoh implementasi dari Queue adalah Antrian sembako, permainan temukan orang dan lain sebagainya.\n",
    "     Algoritma\n",
    "    Berikut ini algoritma program dalam permainan temukan orang :\n",
    "    Inputkan nama yang ikut permainan dan masukan pada Queue\n",
    "    Inputkan nama yang ingin dicari.\n",
    "    Buat perulangan untuk menemukan orang yang ingin dicari di Queue. Jika nama tersebut berada di kepala maka nama tersebut\n",
    "    ditemukan.\n",
    "    Sedangkan jika tidak maka nama yang berada di kepala di ambil dan dimasukan lagi di Queue.\n",
    "    Begitu seterusnya sampai orang yang dicari berada di Kepala Queue."
   ]
  },
  {
   "cell_type": "code",
   "execution_count": null,
   "metadata": {},
   "outputs": [
    {
     "name": "stdout",
     "output_type": "stream",
     "text": [
      "Masukan banyak orang yang ingin ada di permainan = 4\n",
      "Masukan nama orang ke 1 yang masuk di antrian = rani\n",
      "Masukan nama orang ke 2 yang masuk di antrian = ina\n",
      "Masukan nama orang ke 3 yang masuk di antrian = okta\n",
      "Masukan nama orang ke 4 yang masuk di antrian = vina\n",
      "Orang yang berada di Antrian ['rani', 'ina', 'okta', 'vina']\n",
      "Masukan nama orang yang ingin ditemukan = okta\n",
      "Looping 1 = ['ina', 'okta', 'vina', 'rani']\n",
      "Looping 2 = ['okta', 'vina', 'rani', 'ina']\n",
      "Congrast! Orang ditemukan\n",
      "Total looping yang perlukan adalah 2\n"
     ]
    }
   ],
   "source": [
    "def queue():\n",
    "    s = []\n",
    "    return s\n",
    "def enqueue(s,i):\n",
    "    s.insert(0,i)\n",
    "    return s\n",
    "def dequeue(s):\n",
    "    return s.pop()\n",
    "def rear(s):\n",
    "    return (s[0])\n",
    "def front(s):\n",
    "    return (s[len(s)-1])\n",
    "def size(s):\n",
    "    return len(s)\n",
    "def isEmpty(s):\n",
    "    return s==[]\n",
    "\n",
    "def No2():\n",
    "    s = queue()\n",
    "    k=''\n",
    "    while True:\n",
    "        banyak = int(input('Masukan banyak orang yang ingin ada di permainan = '))\n",
    "        for j in range(banyak):\n",
    "            orang = input('Masukan nama orang ke %i yang masuk di antrian = '%(j+1))\n",
    "            enqueue(s,orang)\n",
    "        s.reverse()\n",
    "        print('Orang yang berada di Antrian %s'%s)\n",
    "        s.reverse()\n",
    "        o = input('Masukan nama orang yang ingin ditemukan = ')\n",
    "        ditemukan = 't'\n",
    "        itung = 0\n",
    "        while ditemukan=='t':\n",
    "            if o == front(s):\n",
    "                print('Congrast! Orang ditemukan')\n",
    "                ditemukan = 'y'\n",
    "            elif o != front(s):\n",
    "                masukan = dequeue(s)\n",
    "                enqueue(s,masukan)\n",
    "                ditemukan = 't'\n",
    "                s.reverse()\n",
    "                print('Looping %i = %s'%((itung+1),s))\n",
    "                s.reverse()\n",
    "            itung+=1\n",
    "            if itung > len(s):\n",
    "                print('Maaf! Orang yang dimaksud tidak ada')\n",
    "                ditemukan = 'y'\n",
    "        print('Total looping yang perlukan adalah',str(itung-1))\n",
    "        k = input('ingin melanjutkan permainan (y/n) ? ')\n",
    "        if k != 'y':\n",
    "            print('============================================================================')\n",
    "            print('=================================== END ====================================')\n",
    "            print('===================== OKTAVIANA DWI SUJATMIKO (180411100021) ====================')\n",
    "            break\n",
    "        else:\n",
    "            print('OKE LANJUT')\n",
    "No2()\n"
   ]
  },
  {
   "cell_type": "markdown",
   "metadata": {},
   "source": [
    "                                            Deque\n",
    "                                            \n",
    "Deque juga di kenal sebagai antrian yang memiliki dua ujung sekaligus. Mengapa demikian ? karena dalam class ini memungkin kita untuk menambah dan mengurangi jumlah data dari dua sisi tersebut. Dan sebenarnya, Deque ini juga memiliki kesamaan yaitu dapat diartikan sebagai sebuah antrian. Namun, seperti yang sudah saya katakan diatas, dalam konsep deque ini memungkin kan kita untuk menambah dan  menghapus item atau data dari kedua sisi. Yaitu depan dan belakang. Hal ini berbeda dengan queue yang hanya dapa di tambah dan di hapus dari satu sisi saja."
   ]
  },
  {
   "cell_type": "code",
   "execution_count": 8,
   "metadata": {},
   "outputs": [
    {
     "name": "stdout",
     "output_type": "stream",
     "text": [
      "True\n",
      "4\n",
      "False\n",
      "8.4\n",
      "True\n"
     ]
    }
   ],
   "source": [
    "class Deque :\n",
    "    def __init__(self):\n",
    "        self.items = []\n",
    "\n",
    "    def isEmpty(self):\n",
    "        return self.items == []\n",
    "\n",
    "    def addFront(self, item):\n",
    "        self.items.append(item)\n",
    "\n",
    "    def addRear(self, item):\n",
    "        self.items.insert(0,item)\n",
    "\n",
    "    def removeFront(self):\n",
    "\n",
    "        return self.items.pop()\n",
    "\n",
    "    def removeRear(self):\n",
    "        return self.items.pop(0)\n",
    "\n",
    "    def size(self):\n",
    "        return len(self.items)\n",
    "\n",
    "d = Deque()\n",
    "print(d.isEmpty())\n",
    "\n",
    "d.addRear(4)\n",
    "d.addRear('dog')\n",
    "d.addFront('cat')\n",
    "d.addFront(True)\n",
    "print(d.size())\n",
    "print(d.isEmpty())\n",
    "\n",
    "d.addRear(8.4)\n",
    "print(d.removeRear())\n",
    "print(d.removeFront())\n"
   ]
  },
  {
   "cell_type": "code",
   "execution_count": null,
   "metadata": {},
   "outputs": [],
   "source": []
  }
 ],
 "metadata": {
  "kernelspec": {
   "display_name": "Python 3",
   "language": "python",
   "name": "python3"
  },
  "language_info": {
   "codemirror_mode": {
    "name": "ipython",
    "version": 3
   },
   "file_extension": ".py",
   "mimetype": "text/x-python",
   "name": "python",
   "nbconvert_exporter": "python",
   "pygments_lexer": "ipython3",
   "version": "3.7.1"
  }
 },
 "nbformat": 4,
 "nbformat_minor": 2
}
